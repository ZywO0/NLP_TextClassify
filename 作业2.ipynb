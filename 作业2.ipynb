{
 "cells": [
  {
   "cell_type": "markdown",
   "metadata": {},
   "source": [
    "# 查看数据"
   ]
  },
  {
   "cell_type": "code",
   "execution_count": 6,
   "metadata": {},
   "outputs": [],
   "source": [
    "import numpy as np\n",
    "import pandas as pd\n",
    "import matplotlib.pyplot as plt\n",
    "import seaborn as sns\n",
    "from sklearn.metrics import roc_curve, auc\n",
    "from sklearn.model_selection import train_test_split\n",
    "plt.style.use('seaborn')#设置样式\n",
    "plt.rcParams['font.sans-serif']=['SimHei']\n",
    "plt.rcParams['axes.unicode_minus'] = False "
   ]
  },
  {
   "cell_type": "code",
   "execution_count": 7,
   "metadata": {},
   "outputs": [
    {
     "data": {
      "text/html": [
       "<div>\n",
       "<style scoped>\n",
       "    .dataframe tbody tr th:only-of-type {\n",
       "        vertical-align: middle;\n",
       "    }\n",
       "\n",
       "    .dataframe tbody tr th {\n",
       "        vertical-align: top;\n",
       "    }\n",
       "\n",
       "    .dataframe thead th {\n",
       "        text-align: right;\n",
       "    }\n",
       "</style>\n",
       "<table border=\"1\" class=\"dataframe\">\n",
       "  <thead>\n",
       "    <tr style=\"text-align: right;\">\n",
       "      <th></th>\n",
       "      <th>是否本年新增用户</th>\n",
       "      <th>本月是否新增不出账用户</th>\n",
       "      <th>本月是否双无用户</th>\n",
       "      <th>是否非当月入网出帐三无用户</th>\n",
       "      <th>本年新发展用户连续三个月三无及极低用户</th>\n",
       "      <th>用户VIP等级</th>\n",
       "      <th>该用户身份证是否6个月内未在办理开户业务</th>\n",
       "      <th>是否为靓号</th>\n",
       "      <th>是否双卡终端</th>\n",
       "      <th>是否已订购wo加视频业务</th>\n",
       "      <th>...</th>\n",
       "      <th>上月套餐名称_地王卡</th>\n",
       "      <th>上月套餐名称_联通王卡（29元）</th>\n",
       "      <th>上月套餐名称_腾讯大王卡</th>\n",
       "      <th>上月套餐名称_腾讯天王卡</th>\n",
       "      <th>上月套餐名称_腾讯视频小王卡</th>\n",
       "      <th>上月套餐名称_腾讯音乐小王卡</th>\n",
       "      <th>漫游地1_无漫游地</th>\n",
       "      <th>漫游地1_省内漫游</th>\n",
       "      <th>漫游地1_省外漫游地</th>\n",
       "      <th>外呼结果</th>\n",
       "    </tr>\n",
       "  </thead>\n",
       "  <tbody>\n",
       "    <tr>\n",
       "      <td>0</td>\n",
       "      <td>0</td>\n",
       "      <td>0</td>\n",
       "      <td>0</td>\n",
       "      <td>0</td>\n",
       "      <td>0</td>\n",
       "      <td>3</td>\n",
       "      <td>1</td>\n",
       "      <td>0</td>\n",
       "      <td>0</td>\n",
       "      <td>0</td>\n",
       "      <td>...</td>\n",
       "      <td>1</td>\n",
       "      <td>0</td>\n",
       "      <td>0</td>\n",
       "      <td>0</td>\n",
       "      <td>0</td>\n",
       "      <td>0</td>\n",
       "      <td>1</td>\n",
       "      <td>0</td>\n",
       "      <td>0</td>\n",
       "      <td>0</td>\n",
       "    </tr>\n",
       "    <tr>\n",
       "      <td>1</td>\n",
       "      <td>0</td>\n",
       "      <td>0</td>\n",
       "      <td>0</td>\n",
       "      <td>0</td>\n",
       "      <td>0</td>\n",
       "      <td>5</td>\n",
       "      <td>1</td>\n",
       "      <td>0</td>\n",
       "      <td>1</td>\n",
       "      <td>0</td>\n",
       "      <td>...</td>\n",
       "      <td>1</td>\n",
       "      <td>0</td>\n",
       "      <td>0</td>\n",
       "      <td>0</td>\n",
       "      <td>0</td>\n",
       "      <td>0</td>\n",
       "      <td>0</td>\n",
       "      <td>0</td>\n",
       "      <td>1</td>\n",
       "      <td>0</td>\n",
       "    </tr>\n",
       "    <tr>\n",
       "      <td>2</td>\n",
       "      <td>0</td>\n",
       "      <td>0</td>\n",
       "      <td>0</td>\n",
       "      <td>0</td>\n",
       "      <td>0</td>\n",
       "      <td>5</td>\n",
       "      <td>1</td>\n",
       "      <td>1</td>\n",
       "      <td>1</td>\n",
       "      <td>0</td>\n",
       "      <td>...</td>\n",
       "      <td>0</td>\n",
       "      <td>0</td>\n",
       "      <td>1</td>\n",
       "      <td>0</td>\n",
       "      <td>0</td>\n",
       "      <td>0</td>\n",
       "      <td>1</td>\n",
       "      <td>0</td>\n",
       "      <td>0</td>\n",
       "      <td>0</td>\n",
       "    </tr>\n",
       "    <tr>\n",
       "      <td>3</td>\n",
       "      <td>0</td>\n",
       "      <td>0</td>\n",
       "      <td>0</td>\n",
       "      <td>0</td>\n",
       "      <td>0</td>\n",
       "      <td>5</td>\n",
       "      <td>0</td>\n",
       "      <td>0</td>\n",
       "      <td>1</td>\n",
       "      <td>0</td>\n",
       "      <td>...</td>\n",
       "      <td>0</td>\n",
       "      <td>0</td>\n",
       "      <td>0</td>\n",
       "      <td>1</td>\n",
       "      <td>0</td>\n",
       "      <td>0</td>\n",
       "      <td>1</td>\n",
       "      <td>0</td>\n",
       "      <td>0</td>\n",
       "      <td>0</td>\n",
       "    </tr>\n",
       "    <tr>\n",
       "      <td>4</td>\n",
       "      <td>0</td>\n",
       "      <td>0</td>\n",
       "      <td>0</td>\n",
       "      <td>0</td>\n",
       "      <td>0</td>\n",
       "      <td>4</td>\n",
       "      <td>1</td>\n",
       "      <td>0</td>\n",
       "      <td>1</td>\n",
       "      <td>0</td>\n",
       "      <td>...</td>\n",
       "      <td>1</td>\n",
       "      <td>0</td>\n",
       "      <td>0</td>\n",
       "      <td>0</td>\n",
       "      <td>0</td>\n",
       "      <td>0</td>\n",
       "      <td>1</td>\n",
       "      <td>0</td>\n",
       "      <td>0</td>\n",
       "      <td>0</td>\n",
       "    </tr>\n",
       "  </tbody>\n",
       "</table>\n",
       "<p>5 rows × 165 columns</p>\n",
       "</div>"
      ],
      "text/plain": [
       "   是否本年新增用户  本月是否新增不出账用户  本月是否双无用户  是否非当月入网出帐三无用户  本年新发展用户连续三个月三无及极低用户  \\\n",
       "0         0            0         0              0                    0   \n",
       "1         0            0         0              0                    0   \n",
       "2         0            0         0              0                    0   \n",
       "3         0            0         0              0                    0   \n",
       "4         0            0         0              0                    0   \n",
       "\n",
       "   用户VIP等级  该用户身份证是否6个月内未在办理开户业务  是否为靓号  是否双卡终端  是否已订购wo加视频业务  ...  \\\n",
       "0        3                     1      0       0             0  ...   \n",
       "1        5                     1      0       1             0  ...   \n",
       "2        5                     1      1       1             0  ...   \n",
       "3        5                     0      0       1             0  ...   \n",
       "4        4                     1      0       1             0  ...   \n",
       "\n",
       "   上月套餐名称_地王卡  上月套餐名称_联通王卡（29元）  上月套餐名称_腾讯大王卡  上月套餐名称_腾讯天王卡  上月套餐名称_腾讯视频小王卡  \\\n",
       "0           1                 0             0             0               0   \n",
       "1           1                 0             0             0               0   \n",
       "2           0                 0             1             0               0   \n",
       "3           0                 0             0             1               0   \n",
       "4           1                 0             0             0               0   \n",
       "\n",
       "   上月套餐名称_腾讯音乐小王卡  漫游地1_无漫游地  漫游地1_省内漫游  漫游地1_省外漫游地  外呼结果  \n",
       "0               0          1          0           0     0  \n",
       "1               0          0          0           1     0  \n",
       "2               0          1          0           0     0  \n",
       "3               0          1          0           0     0  \n",
       "4               0          1          0           0     0  \n",
       "\n",
       "[5 rows x 165 columns]"
      ]
     },
     "execution_count": 7,
     "metadata": {},
     "output_type": "execute_result"
    }
   ],
   "source": [
    "data = pd.read_csv(\"data.csv\")\n",
    "data = data.drop(columns=['用户号码'])\n",
    "all_features= list(data.head(0))\n",
    "features = all_features[0:164]\n",
    "data.head()"
   ]
  },
  {
   "cell_type": "code",
   "execution_count": 8,
   "metadata": {},
   "outputs": [
    {
     "name": "stdout",
     "output_type": "stream",
     "text": [
      "<class 'pandas.core.frame.DataFrame'>\n",
      "RangeIndex: 81997 entries, 0 to 81996\n",
      "Columns: 165 entries, 是否本年新增用户 to 外呼结果\n",
      "dtypes: float64(41), int64(124)\n",
      "memory usage: 103.2 MB\n"
     ]
    }
   ],
   "source": [
    "data.info()#是否有缺失值"
   ]
  },
  {
   "cell_type": "markdown",
   "metadata": {},
   "source": [
    "# 缺失值处理"
   ]
  },
  {
   "cell_type": "code",
   "execution_count": 9,
   "metadata": {},
   "outputs": [
    {
     "data": {
      "text/plain": [
       "首次缴费月份\n",
       "201503.0      35\n",
       "201504.0     115\n",
       "201506.0     291\n",
       "201507.0     128\n",
       "201508.0     108\n",
       "201509.0      80\n",
       "201510.0      71\n",
       "201511.0      22\n",
       "201512.0      83\n",
       "201601.0      66\n",
       "201602.0     106\n",
       "201603.0      91\n",
       "201604.0      72\n",
       "201605.0      85\n",
       "201606.0      79\n",
       "201607.0      60\n",
       "201608.0      59\n",
       "201609.0      53\n",
       "201610.0      81\n",
       "201611.0    1309\n",
       "201612.0    1872\n",
       "201701.0    1689\n",
       "201702.0    1654\n",
       "201703.0    2379\n",
       "201704.0    2395\n",
       "201705.0    2109\n",
       "201706.0    2061\n",
       "201707.0    2463\n",
       "201708.0    2995\n",
       "201709.0    2938\n",
       "201710.0    2415\n",
       "201711.0    2440\n",
       "201712.0    2435\n",
       "201801.0    3663\n",
       "201802.0    4628\n",
       "201803.0    4391\n",
       "201804.0    2896\n",
       "201805.0    2401\n",
       "201806.0    3591\n",
       "201807.0    3001\n",
       "201808.0    3399\n",
       "201809.0    3150\n",
       "201810.0    2742\n",
       "201811.0    2592\n",
       "201812.0    2217\n",
       "201901.0    2891\n",
       "201902.0    3039\n",
       "201903.0    2111\n",
       "201904.0    1356\n",
       "201905.0     943\n",
       "201906.0     117\n",
       "201907.0      14\n",
       "Name: 首次缴费月份, dtype: int64"
      ]
     },
     "execution_count": 9,
     "metadata": {},
     "output_type": "execute_result"
    }
   ],
   "source": [
    "data[\"首次缴费月份\"].unique()\n",
    "data.groupby([\"首次缴费月份\"])[\"首次缴费月份\"].count()#看有多少个"
   ]
  },
  {
   "cell_type": "code",
   "execution_count": 10,
   "metadata": {},
   "outputs": [],
   "source": [
    "data[\"首次缴费月份\"] = data[\"首次缴费月份\"].fillna(201802)#众数填充"
   ]
  },
  {
   "cell_type": "markdown",
   "metadata": {},
   "source": [
    "# 划分数据集"
   ]
  },
  {
   "cell_type": "code",
   "execution_count": 11,
   "metadata": {},
   "outputs": [
    {
     "name": "stdout",
     "output_type": "stream",
     "text": [
      "X_train=        是否本年新增用户  本月是否新增不出账用户  本月是否双无用户  是否非当月入网出帐三无用户  本年新发展用户连续三个月三无及极低用户  \\\n",
      "53660         0            0         0              0                    0   \n",
      "52149         0            0         0              0                    0   \n",
      "81606         1            0         0              0                    0   \n",
      "81111         1            0         0              0                    0   \n",
      "53878         0            0         0              0                    0   \n",
      "...         ...          ...       ...            ...                  ...   \n",
      "6265          0            0         0              0                    0   \n",
      "54886         0            0         0              0                    0   \n",
      "76820         1            0         0              0                    0   \n",
      "860           0            0         0              0                    0   \n",
      "15795         0            0         0              0                    0   \n",
      "\n",
      "       用户VIP等级  该用户身份证是否6个月内未在办理开户业务  是否为靓号  是否双卡终端  是否已订购wo加视频业务  ...  \\\n",
      "53660        0                     1      0       1             0  ...   \n",
      "52149        0                     1      0       1             0  ...   \n",
      "81606        0                     0      0       1             0  ...   \n",
      "81111        0                     0      0       1             0  ...   \n",
      "53878        0                     1      0       0             0  ...   \n",
      "...        ...                   ...    ...     ...           ...  ...   \n",
      "6265         1                     1      0       1             0  ...   \n",
      "54886        0                     1      0       1             0  ...   \n",
      "76820        0                     0      0       0             0  ...   \n",
      "860          2                     1      0       1             0  ...   \n",
      "15795        1                     1      0       1             0  ...   \n",
      "\n",
      "       上月套餐名称_亲情卡  上月套餐名称_地王卡  上月套餐名称_联通王卡（29元）  上月套餐名称_腾讯大王卡  上月套餐名称_腾讯天王卡  \\\n",
      "53660           0           0                 0             1             0   \n",
      "52149           0           0                 0             1             0   \n",
      "81606           0           0                 0             1             0   \n",
      "81111           0           0                 0             1             0   \n",
      "53878           0           1                 0             0             0   \n",
      "...           ...         ...               ...           ...           ...   \n",
      "6265            0           0                 0             1             0   \n",
      "54886           0           0                 0             1             0   \n",
      "76820           0           0                 0             1             0   \n",
      "860             0           0                 0             0             1   \n",
      "15795           0           0                 0             1             0   \n",
      "\n",
      "       上月套餐名称_腾讯视频小王卡  上月套餐名称_腾讯音乐小王卡  漫游地1_无漫游地  漫游地1_省内漫游  漫游地1_省外漫游地  \n",
      "53660               0               0          1          0           0  \n",
      "52149               0               0          1          0           0  \n",
      "81606               0               0          1          0           0  \n",
      "81111               0               0          1          0           0  \n",
      "53878               0               0          1          0           0  \n",
      "...               ...             ...        ...        ...         ...  \n",
      "6265                0               0          0          0           1  \n",
      "54886               0               0          0          0           1  \n",
      "76820               0               0          0          0           1  \n",
      "860                 0               0          1          0           0  \n",
      "15795               0               0          1          0           0  \n",
      "\n",
      "[61497 rows x 164 columns]\n",
      "X_test=        是否本年新增用户  本月是否新增不出账用户  本月是否双无用户  是否非当月入网出帐三无用户  本年新发展用户连续三个月三无及极低用户  \\\n",
      "21356         0            0         0              0                    0   \n",
      "662           0            0         0              0                    0   \n",
      "49716         0            0         0              0                    0   \n",
      "58561         0            0         0              0                    0   \n",
      "66924         0            0         0              0                    0   \n",
      "...         ...          ...       ...            ...                  ...   \n",
      "21614         0            0         0              0                    0   \n",
      "35908         0            0         0              0                    0   \n",
      "17342         0            0         0              0                    0   \n",
      "8613          0            0         0              0                    0   \n",
      "7555          0            0         0              0                    0   \n",
      "\n",
      "       用户VIP等级  该用户身份证是否6个月内未在办理开户业务  是否为靓号  是否双卡终端  是否已订购wo加视频业务  ...  \\\n",
      "21356        0                     1      0       1             0  ...   \n",
      "662          4                     1      0       1             0  ...   \n",
      "49716        0                     1      0       0             0  ...   \n",
      "58561        3                     0      0       1             0  ...   \n",
      "66924        0                     1      0       1             0  ...   \n",
      "...        ...                   ...    ...     ...           ...  ...   \n",
      "21614        0                     1      0       0             0  ...   \n",
      "35908        0                     1      0       1             0  ...   \n",
      "17342        1                     1      0       0             0  ...   \n",
      "8613         1                     1      0       1             0  ...   \n",
      "7555         2                     1      0       1             0  ...   \n",
      "\n",
      "       上月套餐名称_亲情卡  上月套餐名称_地王卡  上月套餐名称_联通王卡（29元）  上月套餐名称_腾讯大王卡  上月套餐名称_腾讯天王卡  \\\n",
      "21356           0           1                 0             0             0   \n",
      "662             0           0                 0             0             1   \n",
      "49716           0           1                 0             0             0   \n",
      "58561           0           0                 0             0             1   \n",
      "66924           0           0                 0             1             0   \n",
      "...           ...         ...               ...           ...           ...   \n",
      "21614           0           0                 0             0             1   \n",
      "35908           0           0                 0             1             0   \n",
      "17342           0           1                 0             0             0   \n",
      "8613            0           0                 0             1             0   \n",
      "7555            0           0                 0             1             0   \n",
      "\n",
      "       上月套餐名称_腾讯视频小王卡  上月套餐名称_腾讯音乐小王卡  漫游地1_无漫游地  漫游地1_省内漫游  漫游地1_省外漫游地  \n",
      "21356               0               0          1          0           0  \n",
      "662                 0               0          1          0           0  \n",
      "49716               0               0          1          0           0  \n",
      "58561               0               0          1          0           0  \n",
      "66924               0               0          1          0           0  \n",
      "...               ...             ...        ...        ...         ...  \n",
      "21614               0               0          0          0           1  \n",
      "35908               0               0          1          0           0  \n",
      "17342               0               0          1          0           0  \n",
      "8613                0               0          1          0           0  \n",
      "7555                0               0          1          0           0  \n",
      "\n",
      "[20500 rows x 164 columns]\n",
      "Y_train= 53660    1\n",
      "52149    1\n",
      "81606    0\n",
      "81111    0\n",
      "53878    0\n",
      "        ..\n",
      "6265     0\n",
      "54886    0\n",
      "76820    0\n",
      "860      0\n",
      "15795    0\n",
      "Name: 外呼结果, Length: 61497, dtype: int64\n",
      "Y_test= 21356    0\n",
      "662      1\n",
      "49716    0\n",
      "58561    0\n",
      "66924    0\n",
      "        ..\n",
      "21614    0\n",
      "35908    0\n",
      "17342    0\n",
      "8613     0\n",
      "7555     1\n",
      "Name: 外呼结果, Length: 20500, dtype: int64\n"
     ]
    }
   ],
   "source": [
    "X = data[features]\n",
    "Y = data['外呼结果']\n",
    "x_train, x_test, y_train, y_test = train_test_split(X, Y, test_size=0.25, random_state=42)\n",
    "print(\"X_train=\", x_train)\n",
    "print(\"X_test=\", x_test)\n",
    "print(\"Y_train=\", y_train)\n",
    "print(\"Y_test=\", y_test)"
   ]
  },
  {
   "cell_type": "code",
   "execution_count": 13,
   "metadata": {},
   "outputs": [
    {
     "name": "stdout",
     "output_type": "stream",
     "text": [
      "0.8700099191830496\n"
     ]
    },
    {
     "data": {
      "text/plain": [
       "0.8698536585365854"
      ]
     },
     "execution_count": 13,
     "metadata": {},
     "output_type": "execute_result"
    }
   ],
   "source": [
    "print(sum(y_train == 0)/len(y_train))\n",
    "sum(y_test == 0)/len(y_test)"
   ]
  },
  {
   "cell_type": "markdown",
   "metadata": {},
   "source": [
    "# 数据探索性分析"
   ]
  },
  {
   "cell_type": "markdown",
   "metadata": {},
   "source": [
    "## 成功率"
   ]
  },
  {
   "cell_type": "code",
   "execution_count": 14,
   "metadata": {},
   "outputs": [
    {
     "data": {
      "image/png": "[encoded data removed]",
      "text/plain": [
       "<Figure size 720x360 with 1 Axes>"
      ]
     },
     "metadata": {},
     "output_type": "display_data"
    }
   ],
   "source": [
    "plt.figure(1 , figsize = (10 , 5))\n",
    "sns.countplot(x = '外呼结果' , data = data)#柱状图\n",
    "plt.ylabel('数量',fontsize=14)\n",
    "plt.show()"
   ]
  },
  {
   "cell_type": "code",
   "execution_count": 15,
   "metadata": {},
   "outputs": [
    {
     "data": {
      "text/plain": [
       "<matplotlib.axes._subplots.AxesSubplot at 0x26d4e459508>"
      ]
     },
     "execution_count": 15,
     "metadata": {},
     "output_type": "execute_result"
    },
    {
     "data": {
      "image/png": "[encoded data removed]",
      "text/plain": [
       "<Figure size 720x360 with 1 Axes>"
      ]
     },
     "metadata": {},
     "output_type": "display_data"
    }
   ],
   "source": [
    "plt.figure(1 , figsize = (10 , 5))\n",
    "data['外呼结果'].value_counts().plot.pie(autopct = '%.2f%%')#查看成功比例"
   ]
  },
  {
   "cell_type": "markdown",
   "metadata": {},
   "source": [
    "## 本月是否新增不出账用户的影响"
   ]
  },
  {
   "cell_type": "markdown",
   "metadata": {},
   "source": [
    "### 该特征比例"
   ]
  },
  {
   "cell_type": "code",
   "execution_count": 16,
   "metadata": {},
   "outputs": [
    {
     "data": {
      "text/plain": [
       "<matplotlib.axes._subplots.AxesSubplot at 0x26d4e506788>"
      ]
     },
     "execution_count": 16,
     "metadata": {},
     "output_type": "execute_result"
    },
    {
     "data": {
      "image/png": "[encoded data removed]",
      "text/plain": [
       "<Figure size 720x360 with 1 Axes>"
      ]
     },
     "metadata": {},
     "output_type": "display_data"
    }
   ],
   "source": [
    "plt.figure(1 , figsize = (10 , 5))\n",
    "data.groupby('本月是否新增不出账用户')['本月是否新增不出账用户'].count().plot.pie(autopct = '%.2f%%')"
   ]
  },
  {
   "cell_type": "markdown",
   "metadata": {},
   "source": [
    "### 该特征与成功的关系"
   ]
  },
  {
   "cell_type": "code",
   "execution_count": 18,
   "metadata": {},
   "outputs": [
    {
     "name": "stdout",
     "output_type": "stream",
     "text": [
      "本月是否新增不出账用户  外呼结果\n",
      "0            0       71000\n",
      "             1       10598\n",
      "1            0         335\n",
      "             1          64\n",
      "Name: 外呼结果, dtype: int64\n"
     ]
    },
    {
     "data": {
      "text/plain": [
       "<matplotlib.axes._subplots.AxesSubplot at 0x26d4e5856c8>"
      ]
     },
     "execution_count": 18,
     "metadata": {},
     "output_type": "execute_result"
    },
    {
     "data": {
      "text/plain": [
       "<Figure size 720x360 with 0 Axes>"
      ]
     },
     "metadata": {},
     "output_type": "display_data"
    },
    {
     "data": {
      "image/png": "[encoded data removed]",
      "text/plain": [
       "<Figure size 576x396 with 1 Axes>"
      ]
     },
     "metadata": {},
     "output_type": "display_data"
    }
   ],
   "source": [
    "#特征与是否生存的关系 \n",
    "plt.figure(1 , figsize = (10 , 5))\n",
    "print(data.groupby(['本月是否新增不出账用户','外呼结果'])['外呼结果'].count())\n",
    "data[['本月是否新增不出账用户','外呼结果']].groupby(['本月是否新增不出账用户']).mean().plot.bar()"
   ]
  },
  {
   "cell_type": "markdown",
   "metadata": {},
   "source": [
    "## 用户vip等级的影响"
   ]
  },
  {
   "cell_type": "markdown",
   "metadata": {},
   "source": [
    "### 特征比例"
   ]
  },
  {
   "cell_type": "code",
   "execution_count": 19,
   "metadata": {},
   "outputs": [
    {
     "data": {
      "text/plain": [
       "<matplotlib.axes._subplots.AxesSubplot at 0x26d4ce7ed88>"
      ]
     },
     "execution_count": 19,
     "metadata": {},
     "output_type": "execute_result"
    },
    {
     "data": {
      "image/png": "[encoded data removed]",
      "text/plain": [
       "<Figure size 720x360 with 1 Axes>"
      ]
     },
     "metadata": {},
     "output_type": "display_data"
    }
   ],
   "source": [
    "plt.figure(1 , figsize = (10 , 5))\n",
    "data.groupby('用户VIP等级')['用户VIP等级'].count().plot.pie(autopct = '%.2f%%')"
   ]
  },
  {
   "cell_type": "markdown",
   "metadata": {},
   "source": [
    "### 特征与成功的关系"
   ]
  },
  {
   "cell_type": "code",
   "execution_count": 20,
   "metadata": {},
   "outputs": [
    {
     "name": "stdout",
     "output_type": "stream",
     "text": [
      "用户VIP等级  外呼结果\n",
      "0        0       50577\n",
      "         1        7388\n",
      "1        0        8612\n",
      "         1        1216\n",
      "2        0       10373\n",
      "         1        1860\n",
      "3        0         977\n",
      "         1         133\n",
      "4        0         587\n",
      "         1          47\n",
      "5        0         209\n",
      "         1          18\n",
      "Name: 用户VIP等级, dtype: int64\n"
     ]
    },
    {
     "data": {
      "text/plain": [
       "<matplotlib.axes._subplots.AxesSubplot at 0x26d4e657b08>"
      ]
     },
     "execution_count": 20,
     "metadata": {},
     "output_type": "execute_result"
    },
    {
     "data": {
      "text/plain": [
       "<Figure size 720x360 with 0 Axes>"
      ]
     },
     "metadata": {},
     "output_type": "display_data"
    },
    {
     "data": {
      "image/png": "[encoded data removed]",
      "text/plain": [
       "<Figure size 576x396 with 1 Axes>"
      ]
     },
     "metadata": {},
     "output_type": "display_data"
    }
   ],
   "source": [
    "plt.figure(1 , figsize = (10 , 5))\n",
    "print(data.groupby(['用户VIP等级','外呼结果'])['用户VIP等级'].count())\n",
    "data[['用户VIP等级','外呼结果']].groupby(['用户VIP等级']).mean().plot.bar()"
   ]
  },
  {
   "cell_type": "markdown",
   "metadata": {},
   "source": [
    "## 总通话时长(分钟)的影响"
   ]
  },
  {
   "cell_type": "markdown",
   "metadata": {},
   "source": [
    "### 该特征各部分的比例"
   ]
  },
  {
   "cell_type": "code",
   "execution_count": 21,
   "metadata": {},
   "outputs": [
    {
     "data": {
      "text/plain": [
       "Text(0.5, 0, '总通话时长(分钟)')"
      ]
     },
     "execution_count": 21,
     "metadata": {},
     "output_type": "execute_result"
    },
    {
     "data": {
      "image/png": "[encoded data removed]",
      "text/plain": [
       "<Figure size 720x360 with 1 Axes>"
      ]
     },
     "metadata": {},
     "output_type": "display_data"
    }
   ],
   "source": [
    "plt.figure(1 , figsize = (10 , 5))\n",
    "sns.distplot(data['总通话时长(分钟)'],bins=100)\n",
    "plt.xlim(([-10,1300]))\n",
    "plt.xlabel('总通话时长(分钟)')"
   ]
  },
  {
   "cell_type": "markdown",
   "metadata": {},
   "source": [
    "## 年龄与呼叫成功的关系"
   ]
  },
  {
   "cell_type": "code",
   "execution_count": 22,
   "metadata": {},
   "outputs": [
    {
     "data": {
      "text/plain": [
       "Text(0.5, 0, '外呼结果')"
      ]
     },
     "execution_count": 22,
     "metadata": {},
     "output_type": "execute_result"
    },
    {
     "data": {
      "image/png": "[encoded data removed]",
      "text/plain": [
       "<Figure size 576x396 with 1 Axes>"
      ]
     },
     "metadata": {},
     "output_type": "display_data"
    }
   ],
   "source": [
    "sns.kdeplot(data['总通话时长(分钟)'][data['外呼结果']==1], label='1', shade=True)\n",
    "sns.kdeplot(data['总通话时长(分钟)'][data['外呼结果']==0], label='0', shade=True)\n",
    "plt.xlim(([0,1300]))\n",
    "plt.xlabel('外呼结果')"
   ]
  },
  {
   "cell_type": "markdown",
   "metadata": {},
   "source": [
    "# 特征选择"
   ]
  },
  {
   "cell_type": "code",
   "execution_count": 23,
   "metadata": {},
   "outputs": [
    {
     "data": {
      "text/html": [
       "<div>\n",
       "<style scoped>\n",
       "    .dataframe tbody tr th:only-of-type {\n",
       "        vertical-align: middle;\n",
       "    }\n",
       "\n",
       "    .dataframe tbody tr th {\n",
       "        vertical-align: top;\n",
       "    }\n",
       "\n",
       "    .dataframe thead th {\n",
       "        text-align: right;\n",
       "    }\n",
       "</style>\n",
       "<table border=\"1\" class=\"dataframe\">\n",
       "  <thead>\n",
       "    <tr style=\"text-align: right;\">\n",
       "      <th></th>\n",
       "      <th>是否本年新增用户</th>\n",
       "      <th>本月是否新增不出账用户</th>\n",
       "      <th>本月是否双无用户</th>\n",
       "      <th>是否非当月入网出帐三无用户</th>\n",
       "      <th>本年新发展用户连续三个月三无及极低用户</th>\n",
       "      <th>用户VIP等级</th>\n",
       "      <th>该用户身份证是否6个月内未在办理开户业务</th>\n",
       "      <th>是否为靓号</th>\n",
       "      <th>是否双卡终端</th>\n",
       "      <th>是否已订购wo加视频业务</th>\n",
       "      <th>...</th>\n",
       "      <th>上月套餐名称_地王卡</th>\n",
       "      <th>上月套餐名称_联通王卡（29元）</th>\n",
       "      <th>上月套餐名称_腾讯大王卡</th>\n",
       "      <th>上月套餐名称_腾讯天王卡</th>\n",
       "      <th>上月套餐名称_腾讯视频小王卡</th>\n",
       "      <th>上月套餐名称_腾讯音乐小王卡</th>\n",
       "      <th>漫游地1_无漫游地</th>\n",
       "      <th>漫游地1_省内漫游</th>\n",
       "      <th>漫游地1_省外漫游地</th>\n",
       "      <th>外呼结果</th>\n",
       "    </tr>\n",
       "  </thead>\n",
       "  <tbody>\n",
       "    <tr>\n",
       "      <td>是否本年新增用户</td>\n",
       "      <td>1.000000</td>\n",
       "      <td>0.016444</td>\n",
       "      <td>0.025779</td>\n",
       "      <td>0.024117</td>\n",
       "      <td>0.027696</td>\n",
       "      <td>-0.208630</td>\n",
       "      <td>-0.595453</td>\n",
       "      <td>0.017579</td>\n",
       "      <td>0.025742</td>\n",
       "      <td>-0.013774</td>\n",
       "      <td>...</td>\n",
       "      <td>-0.013159</td>\n",
       "      <td>0.001982</td>\n",
       "      <td>0.003856</td>\n",
       "      <td>0.012955</td>\n",
       "      <td>-0.008461</td>\n",
       "      <td>-0.003963</td>\n",
       "      <td>0.024227</td>\n",
       "      <td>-0.013600</td>\n",
       "      <td>-0.019173</td>\n",
       "      <td>-0.000630</td>\n",
       "    </tr>\n",
       "    <tr>\n",
       "      <td>本月是否新增不出账用户</td>\n",
       "      <td>0.016444</td>\n",
       "      <td>1.000000</td>\n",
       "      <td>0.261398</td>\n",
       "      <td>-0.004122</td>\n",
       "      <td>-0.000733</td>\n",
       "      <td>-0.007342</td>\n",
       "      <td>-0.012973</td>\n",
       "      <td>-0.002571</td>\n",
       "      <td>-0.165731</td>\n",
       "      <td>0.010809</td>\n",
       "      <td>...</td>\n",
       "      <td>-0.000461</td>\n",
       "      <td>-0.000810</td>\n",
       "      <td>0.002063</td>\n",
       "      <td>-0.002490</td>\n",
       "      <td>-0.001564</td>\n",
       "      <td>-0.000733</td>\n",
       "      <td>0.015897</td>\n",
       "      <td>-0.000403</td>\n",
       "      <td>-0.016364</td>\n",
       "      <td>0.006315</td>\n",
       "    </tr>\n",
       "    <tr>\n",
       "      <td>本月是否双无用户</td>\n",
       "      <td>0.025779</td>\n",
       "      <td>0.261398</td>\n",
       "      <td>1.000000</td>\n",
       "      <td>0.840961</td>\n",
       "      <td>0.116079</td>\n",
       "      <td>-0.010695</td>\n",
       "      <td>-0.011822</td>\n",
       "      <td>0.000687</td>\n",
       "      <td>-0.158368</td>\n",
       "      <td>0.006270</td>\n",
       "      <td>...</td>\n",
       "      <td>-0.012639</td>\n",
       "      <td>-0.000812</td>\n",
       "      <td>0.016778</td>\n",
       "      <td>-0.009136</td>\n",
       "      <td>-0.001568</td>\n",
       "      <td>-0.000734</td>\n",
       "      <td>0.046103</td>\n",
       "      <td>-0.014540</td>\n",
       "      <td>-0.041521</td>\n",
       "      <td>-0.005271</td>\n",
       "    </tr>\n",
       "    <tr>\n",
       "      <td>是否非当月入网出帐三无用户</td>\n",
       "      <td>0.024117</td>\n",
       "      <td>-0.004122</td>\n",
       "      <td>0.840961</td>\n",
       "      <td>1.000000</td>\n",
       "      <td>0.138088</td>\n",
       "      <td>-0.010128</td>\n",
       "      <td>-0.010570</td>\n",
       "      <td>0.001474</td>\n",
       "      <td>-0.125082</td>\n",
       "      <td>0.003048</td>\n",
       "      <td>...</td>\n",
       "      <td>-0.013234</td>\n",
       "      <td>-0.000683</td>\n",
       "      <td>0.018316</td>\n",
       "      <td>-0.010826</td>\n",
       "      <td>-0.001319</td>\n",
       "      <td>-0.000618</td>\n",
       "      <td>0.038567</td>\n",
       "      <td>-0.012228</td>\n",
       "      <td>-0.034705</td>\n",
       "      <td>-0.006128</td>\n",
       "    </tr>\n",
       "    <tr>\n",
       "      <td>本年新发展用户连续三个月三无及极低用户</td>\n",
       "      <td>0.027696</td>\n",
       "      <td>-0.000733</td>\n",
       "      <td>0.116079</td>\n",
       "      <td>0.138088</td>\n",
       "      <td>1.000000</td>\n",
       "      <td>-0.005983</td>\n",
       "      <td>-0.021361</td>\n",
       "      <td>-0.001126</td>\n",
       "      <td>-0.023939</td>\n",
       "      <td>-0.000408</td>\n",
       "      <td>...</td>\n",
       "      <td>0.001366</td>\n",
       "      <td>-0.000121</td>\n",
       "      <td>-0.001993</td>\n",
       "      <td>0.001332</td>\n",
       "      <td>-0.000234</td>\n",
       "      <td>-0.000110</td>\n",
       "      <td>0.007171</td>\n",
       "      <td>-0.002173</td>\n",
       "      <td>-0.006497</td>\n",
       "      <td>-0.004051</td>\n",
       "    </tr>\n",
       "    <tr>\n",
       "      <td>...</td>\n",
       "      <td>...</td>\n",
       "      <td>...</td>\n",
       "      <td>...</td>\n",
       "      <td>...</td>\n",
       "      <td>...</td>\n",
       "      <td>...</td>\n",
       "      <td>...</td>\n",
       "      <td>...</td>\n",
       "      <td>...</td>\n",
       "      <td>...</td>\n",
       "      <td>...</td>\n",
       "      <td>...</td>\n",
       "      <td>...</td>\n",
       "      <td>...</td>\n",
       "      <td>...</td>\n",
       "      <td>...</td>\n",
       "      <td>...</td>\n",
       "      <td>...</td>\n",
       "      <td>...</td>\n",
       "      <td>...</td>\n",
       "      <td>...</td>\n",
       "    </tr>\n",
       "    <tr>\n",
       "      <td>上月套餐名称_腾讯音乐小王卡</td>\n",
       "      <td>-0.003963</td>\n",
       "      <td>-0.000733</td>\n",
       "      <td>-0.000734</td>\n",
       "      <td>-0.000618</td>\n",
       "      <td>-0.000110</td>\n",
       "      <td>0.011177</td>\n",
       "      <td>0.001236</td>\n",
       "      <td>-0.001126</td>\n",
       "      <td>0.000509</td>\n",
       "      <td>-0.000408</td>\n",
       "      <td>...</td>\n",
       "      <td>-0.004791</td>\n",
       "      <td>-0.000121</td>\n",
       "      <td>-0.018104</td>\n",
       "      <td>-0.003030</td>\n",
       "      <td>-0.000234</td>\n",
       "      <td>1.000000</td>\n",
       "      <td>0.004673</td>\n",
       "      <td>-0.002173</td>\n",
       "      <td>-0.003898</td>\n",
       "      <td>-0.000589</td>\n",
       "    </tr>\n",
       "    <tr>\n",
       "      <td>漫游地1_无漫游地</td>\n",
       "      <td>0.024227</td>\n",
       "      <td>0.015897</td>\n",
       "      <td>0.046103</td>\n",
       "      <td>0.038567</td>\n",
       "      <td>0.007171</td>\n",
       "      <td>-0.006095</td>\n",
       "      <td>-0.036274</td>\n",
       "      <td>-0.004212</td>\n",
       "      <td>-0.021973</td>\n",
       "      <td>-0.002320</td>\n",
       "      <td>...</td>\n",
       "      <td>-0.037506</td>\n",
       "      <td>0.003409</td>\n",
       "      <td>0.048695</td>\n",
       "      <td>-0.026909</td>\n",
       "      <td>0.007115</td>\n",
       "      <td>0.004673</td>\n",
       "      <td>1.000000</td>\n",
       "      <td>-0.303057</td>\n",
       "      <td>-0.906078</td>\n",
       "      <td>-0.023803</td>\n",
       "    </tr>\n",
       "    <tr>\n",
       "      <td>漫游地1_省内漫游</td>\n",
       "      <td>-0.013600</td>\n",
       "      <td>-0.000403</td>\n",
       "      <td>-0.014540</td>\n",
       "      <td>-0.012228</td>\n",
       "      <td>-0.002173</td>\n",
       "      <td>0.025993</td>\n",
       "      <td>0.003852</td>\n",
       "      <td>0.018668</td>\n",
       "      <td>0.001391</td>\n",
       "      <td>-0.000181</td>\n",
       "      <td>...</td>\n",
       "      <td>0.031166</td>\n",
       "      <td>-0.002402</td>\n",
       "      <td>-0.045056</td>\n",
       "      <td>0.029415</td>\n",
       "      <td>-0.001896</td>\n",
       "      <td>-0.002173</td>\n",
       "      <td>-0.303057</td>\n",
       "      <td>1.000000</td>\n",
       "      <td>-0.128620</td>\n",
       "      <td>0.003144</td>\n",
       "    </tr>\n",
       "    <tr>\n",
       "      <td>漫游地1_省外漫游地</td>\n",
       "      <td>-0.019173</td>\n",
       "      <td>-0.016364</td>\n",
       "      <td>-0.041521</td>\n",
       "      <td>-0.034705</td>\n",
       "      <td>-0.006497</td>\n",
       "      <td>-0.005198</td>\n",
       "      <td>0.036038</td>\n",
       "      <td>-0.003905</td>\n",
       "      <td>0.022248</td>\n",
       "      <td>0.002495</td>\n",
       "      <td>...</td>\n",
       "      <td>0.025193</td>\n",
       "      <td>-0.002481</td>\n",
       "      <td>-0.030669</td>\n",
       "      <td>0.014943</td>\n",
       "      <td>-0.006562</td>\n",
       "      <td>-0.003898</td>\n",
       "      <td>-0.906078</td>\n",
       "      <td>-0.128620</td>\n",
       "      <td>1.000000</td>\n",
       "      <td>0.023374</td>\n",
       "    </tr>\n",
       "    <tr>\n",
       "      <td>外呼结果</td>\n",
       "      <td>-0.000630</td>\n",
       "      <td>0.006315</td>\n",
       "      <td>-0.005271</td>\n",
       "      <td>-0.006128</td>\n",
       "      <td>-0.004051</td>\n",
       "      <td>0.010010</td>\n",
       "      <td>-0.024108</td>\n",
       "      <td>-0.018708</td>\n",
       "      <td>0.012769</td>\n",
       "      <td>0.018547</td>\n",
       "      <td>...</td>\n",
       "      <td>0.021220</td>\n",
       "      <td>-0.004478</td>\n",
       "      <td>-0.017484</td>\n",
       "      <td>-0.001063</td>\n",
       "      <td>-0.005403</td>\n",
       "      <td>-0.000589</td>\n",
       "      <td>-0.023803</td>\n",
       "      <td>0.003144</td>\n",
       "      <td>0.023374</td>\n",
       "      <td>1.000000</td>\n",
       "    </tr>\n",
       "  </tbody>\n",
       "</table>\n",
       "<p>165 rows × 165 columns</p>\n",
       "</div>"
      ],
      "text/plain": [
       "                     是否本年新增用户  本月是否新增不出账用户  本月是否双无用户  是否非当月入网出帐三无用户  \\\n",
       "是否本年新增用户             1.000000     0.016444  0.025779       0.024117   \n",
       "本月是否新增不出账用户          0.016444     1.000000  0.261398      -0.004122   \n",
       "本月是否双无用户             0.025779     0.261398  1.000000       0.840961   \n",
       "是否非当月入网出帐三无用户        0.024117    -0.004122  0.840961       1.000000   \n",
       "本年新发展用户连续三个月三无及极低用户  0.027696    -0.000733  0.116079       0.138088   \n",
       "...                       ...          ...       ...            ...   \n",
       "上月套餐名称_腾讯音乐小王卡      -0.003963    -0.000733 -0.000734      -0.000618   \n",
       "漫游地1_无漫游地            0.024227     0.015897  0.046103       0.038567   \n",
       "漫游地1_省内漫游           -0.013600    -0.000403 -0.014540      -0.012228   \n",
       "漫游地1_省外漫游地          -0.019173    -0.016364 -0.041521      -0.034705   \n",
       "外呼结果                -0.000630     0.006315 -0.005271      -0.006128   \n",
       "\n",
       "                     本年新发展用户连续三个月三无及极低用户   用户VIP等级  该用户身份证是否6个月内未在办理开户业务  \\\n",
       "是否本年新增用户                        0.027696 -0.208630             -0.595453   \n",
       "本月是否新增不出账用户                    -0.000733 -0.007342             -0.012973   \n",
       "本月是否双无用户                        0.116079 -0.010695             -0.011822   \n",
       "是否非当月入网出帐三无用户                   0.138088 -0.010128             -0.010570   \n",
       "本年新发展用户连续三个月三无及极低用户             1.000000 -0.005983             -0.021361   \n",
       "...                                  ...       ...                   ...   \n",
       "上月套餐名称_腾讯音乐小王卡                 -0.000110  0.011177              0.001236   \n",
       "漫游地1_无漫游地                       0.007171 -0.006095             -0.036274   \n",
       "漫游地1_省内漫游                      -0.002173  0.025993              0.003852   \n",
       "漫游地1_省外漫游地                     -0.006497 -0.005198              0.036038   \n",
       "外呼结果                           -0.004051  0.010010             -0.024108   \n",
       "\n",
       "                        是否为靓号    是否双卡终端  是否已订购wo加视频业务  ...  上月套餐名称_地王卡  \\\n",
       "是否本年新增用户             0.017579  0.025742     -0.013774  ...   -0.013159   \n",
       "本月是否新增不出账用户         -0.002571 -0.165731      0.010809  ...   -0.000461   \n",
       "本月是否双无用户             0.000687 -0.158368      0.006270  ...   -0.012639   \n",
       "是否非当月入网出帐三无用户        0.001474 -0.125082      0.003048  ...   -0.013234   \n",
       "本年新发展用户连续三个月三无及极低用户 -0.001126 -0.023939     -0.000408  ...    0.001366   \n",
       "...                       ...       ...           ...  ...         ...   \n",
       "上月套餐名称_腾讯音乐小王卡      -0.001126  0.000509     -0.000408  ...   -0.004791   \n",
       "漫游地1_无漫游地           -0.004212 -0.021973     -0.002320  ...   -0.037506   \n",
       "漫游地1_省内漫游            0.018668  0.001391     -0.000181  ...    0.031166   \n",
       "漫游地1_省外漫游地          -0.003905  0.022248      0.002495  ...    0.025193   \n",
       "外呼结果                -0.018708  0.012769      0.018547  ...    0.021220   \n",
       "\n",
       "                     上月套餐名称_联通王卡（29元）  上月套餐名称_腾讯大王卡  上月套餐名称_腾讯天王卡  \\\n",
       "是否本年新增用户                     0.001982      0.003856      0.012955   \n",
       "本月是否新增不出账用户                 -0.000810      0.002063     -0.002490   \n",
       "本月是否双无用户                    -0.000812      0.016778     -0.009136   \n",
       "是否非当月入网出帐三无用户               -0.000683      0.018316     -0.010826   \n",
       "本年新发展用户连续三个月三无及极低用户         -0.000121     -0.001993      0.001332   \n",
       "...                               ...           ...           ...   \n",
       "上月套餐名称_腾讯音乐小王卡              -0.000121     -0.018104     -0.003030   \n",
       "漫游地1_无漫游地                    0.003409      0.048695     -0.026909   \n",
       "漫游地1_省内漫游                   -0.002402     -0.045056      0.029415   \n",
       "漫游地1_省外漫游地                  -0.002481     -0.030669      0.014943   \n",
       "外呼结果                        -0.004478     -0.017484     -0.001063   \n",
       "\n",
       "                     上月套餐名称_腾讯视频小王卡  上月套餐名称_腾讯音乐小王卡  漫游地1_无漫游地  漫游地1_省内漫游  \\\n",
       "是否本年新增用户                  -0.008461       -0.003963   0.024227  -0.013600   \n",
       "本月是否新增不出账用户               -0.001564       -0.000733   0.015897  -0.000403   \n",
       "本月是否双无用户                  -0.001568       -0.000734   0.046103  -0.014540   \n",
       "是否非当月入网出帐三无用户             -0.001319       -0.000618   0.038567  -0.012228   \n",
       "本年新发展用户连续三个月三无及极低用户       -0.000234       -0.000110   0.007171  -0.002173   \n",
       "...                             ...             ...        ...        ...   \n",
       "上月套餐名称_腾讯音乐小王卡            -0.000234        1.000000   0.004673  -0.002173   \n",
       "漫游地1_无漫游地                  0.007115        0.004673   1.000000  -0.303057   \n",
       "漫游地1_省内漫游                 -0.001896       -0.002173  -0.303057   1.000000   \n",
       "漫游地1_省外漫游地                -0.006562       -0.003898  -0.906078  -0.128620   \n",
       "外呼结果                      -0.005403       -0.000589  -0.023803   0.003144   \n",
       "\n",
       "                     漫游地1_省外漫游地      外呼结果  \n",
       "是否本年新增用户              -0.019173 -0.000630  \n",
       "本月是否新增不出账用户           -0.016364  0.006315  \n",
       "本月是否双无用户              -0.041521 -0.005271  \n",
       "是否非当月入网出帐三无用户         -0.034705 -0.006128  \n",
       "本年新发展用户连续三个月三无及极低用户   -0.006497 -0.004051  \n",
       "...                         ...       ...  \n",
       "上月套餐名称_腾讯音乐小王卡        -0.003898 -0.000589  \n",
       "漫游地1_无漫游地             -0.906078 -0.023803  \n",
       "漫游地1_省内漫游             -0.128620  0.003144  \n",
       "漫游地1_省外漫游地             1.000000  0.023374  \n",
       "外呼结果                   0.023374  1.000000  \n",
       "\n",
       "[165 rows x 165 columns]"
      ]
     },
     "execution_count": 23,
     "metadata": {},
     "output_type": "execute_result"
    }
   ],
   "source": [
    "#分析数据间关系,选择特征 \n",
    "data.corr() "
   ]
  },
  {
   "cell_type": "markdown",
   "metadata": {},
   "source": [
    "# 对测试集进行处理"
   ]
  },
  {
   "cell_type": "code",
   "execution_count": 24,
   "metadata": {},
   "outputs": [
    {
     "name": "stdout",
     "output_type": "stream",
     "text": [
      "<class 'pandas.core.frame.DataFrame'>\n",
      "Int64Index: 20500 entries, 21356 to 7555\n",
      "Columns: 164 entries, 是否本年新增用户 to 漫游地1_省外漫游地\n",
      "dtypes: float64(41), int64(123)\n",
      "memory usage: 25.8 MB\n"
     ]
    }
   ],
   "source": [
    "x_test.info()"
   ]
  },
  {
   "cell_type": "markdown",
   "metadata": {},
   "source": [
    "# 建模分析"
   ]
  },
  {
   "cell_type": "markdown",
   "metadata": {},
   "source": [
    "## 逻辑回归"
   ]
  },
  {
   "cell_type": "code",
   "execution_count": 25,
   "metadata": {},
   "outputs": [],
   "source": [
    "import warnings\n",
    "warnings.filterwarnings(\"ignore\")\n",
    "from sklearn.linear_model import LogisticRegression\n",
    "from sklearn.model_selection import GridSearchCV\n",
    "from sklearn.metrics import roc_curve, auc, roc_auc_score"
   ]
  },
  {
   "cell_type": "code",
   "execution_count": 26,
   "metadata": {},
   "outputs": [
    {
     "data": {
      "text/plain": [
       "{'C': 0.01, 'penalty': 'l2'}"
      ]
     },
     "execution_count": 26,
     "metadata": {},
     "output_type": "execute_result"
    }
   ],
   "source": [
    "# 逻辑回归模型\n",
    "\n",
    "penaltys = ['l1','l2']\n",
    "Cs = [0.01, 0.1,0.2,0.5,0.8, 1, 10, 100, 1000]\n",
    "params= dict(penalty = penaltys, C = Cs)\n",
    "lr = LogisticRegression()\n",
    "grid_search=GridSearchCV(lr,param_grid=params,cv=5)\n",
    "grid_search.fit(x_train, y_train)\n",
    "grid_search.best_params_"
   ]
  },
  {
   "cell_type": "code",
   "execution_count": 27,
   "metadata": {},
   "outputs": [
    {
     "data": {
      "text/plain": [
       "0.8700099191830496"
      ]
     },
     "execution_count": 27,
     "metadata": {},
     "output_type": "execute_result"
    }
   ],
   "source": [
    "grid_search.score(x_train,y_train)"
   ]
  },
  {
   "cell_type": "code",
   "execution_count": 28,
   "metadata": {},
   "outputs": [
    {
     "data": {
      "text/plain": [
       "array([0.11465958, 0.09477808, 0.10340949, ..., 0.09943597, 0.099138  ,\n",
       "       0.14862605])"
      ]
     },
     "execution_count": 28,
     "metadata": {},
     "output_type": "execute_result"
    }
   ],
   "source": [
    "y_predict1 = grid_search.predict_proba(x_test)[:,1]#测试集上预测的结果\n",
    "y_predict1"
   ]
  },
  {
   "cell_type": "code",
   "execution_count": 29,
   "metadata": {
    "scrolled": true
   },
   "outputs": [
    {
     "name": "stdout",
     "output_type": "stream",
     "text": [
      "0.5956481718763766\n"
     ]
    },
    {
     "data": {
      "image/png": "[encoded data removed]",
      "text/plain": [
       "<Figure size 576x396 with 1 Axes>"
      ]
     },
     "metadata": {},
     "output_type": "display_data"
    }
   ],
   "source": [
    "fpr, tpr, thresholds  =  roc_curve(y_test, y_predict1) \n",
    "plt.plot(fpr,tpr)\n",
    "plt.show\n",
    "roc_auc =auc(fpr, tpr) \n",
    "print(roc_auc)"
   ]
  },
  {
   "cell_type": "markdown",
   "metadata": {},
   "source": [
    "## KNN "
   ]
  },
  {
   "cell_type": "code",
   "execution_count": 31,
   "metadata": {},
   "outputs": [
    {
     "data": {
      "text/plain": [
       "{'n_neighbors': 8}"
      ]
     },
     "execution_count": 31,
     "metadata": {},
     "output_type": "execute_result"
    }
   ],
   "source": [
    "from sklearn import neighbors\n",
    "knn = neighbors.KNeighborsClassifier()\n",
    "params={'n_neighbors':[2,3,4,5,6,7,8,9]}\n",
    "grid_search=GridSearchCV(knn,param_grid=params,cv=5)\n",
    "grid_search.fit(x_train, y_train)\n",
    "grid_search.best_params_"
   ]
  },
  {
   "cell_type": "code",
   "execution_count": 33,
   "metadata": {},
   "outputs": [
    {
     "data": {
      "text/plain": [
       "0.8706115745483519"
      ]
     },
     "execution_count": 33,
     "metadata": {},
     "output_type": "execute_result"
    }
   ],
   "source": [
    "grid_search.score(x_train,y_train)"
   ]
  },
  {
   "cell_type": "code",
   "execution_count": 34,
   "metadata": {},
   "outputs": [
    {
     "data": {
      "text/plain": [
       "array([0.25 , 0.25 , 0.25 , ..., 0.   , 0.125, 0.25 ])"
      ]
     },
     "execution_count": 34,
     "metadata": {},
     "output_type": "execute_result"
    }
   ],
   "source": [
    "y_predict2 = grid_search.predict_proba(x_test)[:,1]#测试集上预测的结果\n",
    "y_predict2"
   ]
  },
  {
   "cell_type": "code",
   "execution_count": 35,
   "metadata": {},
   "outputs": [
    {
     "name": "stdout",
     "output_type": "stream",
     "text": [
      "0.5416034937611949\n"
     ]
    },
    {
     "data": {
      "image/png": "[encoded data removed]",
      "text/plain": [
       "<Figure size 576x396 with 1 Axes>"
      ]
     },
     "metadata": {},
     "output_type": "display_data"
    }
   ],
   "source": [
    "fpr, tpr, thresholds  =  roc_curve(y_test, y_predict2) \n",
    "plt.plot(fpr,tpr)\n",
    "plt.show\n",
    "roc_auc =auc(fpr, tpr) \n",
    "print(roc_auc)"
   ]
  },
  {
   "cell_type": "markdown",
   "metadata": {},
   "source": [
    "## 决策树"
   ]
  },
  {
   "cell_type": "code",
   "execution_count": 36,
   "metadata": {},
   "outputs": [],
   "source": [
    "from sklearn import tree"
   ]
  },
  {
   "cell_type": "code",
   "execution_count": 37,
   "metadata": {},
   "outputs": [
    {
     "data": {
      "text/plain": [
       "{'max_depth': 3}"
      ]
     },
     "execution_count": 37,
     "metadata": {},
     "output_type": "execute_result"
    }
   ],
   "source": [
    "dtree = tree.DecisionTreeClassifier(max_depth=8,class_weight='balanced')\n",
    "params={'max_depth':[2,3,4,5,6,7,8,9]}\n",
    "grid_search=GridSearchCV(dtree,param_grid=params,cv=5)\n",
    "grid_search.fit(x_train, y_train)\n",
    "grid_search.best_params_"
   ]
  },
  {
   "cell_type": "code",
   "execution_count": 40,
   "metadata": {},
   "outputs": [
    {
     "name": "stdout",
     "output_type": "stream",
     "text": [
      "0.6935785485470836\n"
     ]
    },
    {
     "data": {
      "text/plain": [
       "array([0.54636578, 0.33461489, 0.54636578, ..., 0.4845418 , 0.48937688,\n",
       "       0.48937688])"
      ]
     },
     "execution_count": 40,
     "metadata": {},
     "output_type": "execute_result"
    }
   ],
   "source": [
    "print(grid_search.score(x_train,y_train))\n",
    "y_predict3 = grid_search.predict_proba(x_test)[:,1]\n",
    "y_predict3"
   ]
  },
  {
   "cell_type": "code",
   "execution_count": 41,
   "metadata": {},
   "outputs": [
    {
     "name": "stdout",
     "output_type": "stream",
     "text": [
      "0.6042820089786869\n"
     ]
    },
    {
     "data": {
      "image/png": "[encoded data removed]",
      "text/plain": [
       "<Figure size 576x396 with 1 Axes>"
      ]
     },
     "metadata": {},
     "output_type": "display_data"
    }
   ],
   "source": [
    "fpr, tpr, thresholds  =  roc_curve(y_test, y_predict3) \n",
    "plt.plot(fpr,tpr)\n",
    "plt.show\n",
    "roc_auc =auc(fpr, tpr) \n",
    "print(roc_auc)"
   ]
  },
  {
   "cell_type": "markdown",
   "metadata": {},
   "source": [
    "## 随机森林"
   ]
  },
  {
   "cell_type": "code",
   "execution_count": 58,
   "metadata": {},
   "outputs": [],
   "source": [
    "from sklearn.ensemble import RandomForestClassifier"
   ]
  },
  {
   "cell_type": "code",
   "execution_count": 61,
   "metadata": {},
   "outputs": [
    {
     "name": "stdout",
     "output_type": "stream",
     "text": [
      "0.6337093692386646\n"
     ]
    },
    {
     "data": {
      "image/png": "[encoded data removed]",
      "text/plain": [
       "<Figure size 576x396 with 1 Axes>"
      ]
     },
     "metadata": {},
     "output_type": "display_data"
    }
   ],
   "source": [
    "RF = RandomForestClassifier(max_depth=8,n_estimators=100,class_weight='balanced')\n",
    "RF.fit(x_train,y_train)\n",
    "self_predict = RF.predict_proba(x_test)[:,1]\n",
    "fpr, tpr, thresholds  =  roc_curve(y_test, self_predict) \n",
    "plt.plot(fpr,tpr)\n",
    "plt.show\n",
    "roc_auc =auc(fpr, tpr) \n",
    "print(roc_auc)"
   ]
  }
 ],
 "metadata": {
  "kernelspec": {
   "display_name": "Python 3",
   "language": "python",
   "name": "python3"
  },
  "language_info": {
   "codemirror_mode": {
    "name": "ipython",
    "version": 3
   },
   "file_extension": ".py",
   "mimetype": "text/x-python",
   "name": "python",
   "nbconvert_exporter": "python",
   "pygments_lexer": "ipython3",
   "version": "3.7.4"
  },
  "toc": {
   "base_numbering": 1,
   "nav_menu": {},
   "number_sections": true,
   "sideBar": true,
   "skip_h1_title": false,
   "title_cell": "Table of Contents",
   "title_sidebar": "Contents",
   "toc_cell": false,
   "toc_position": {
    "height": "calc(100% - 180px)",
    "left": "10px",
    "top": "150px",
    "width": "245.76px"
   },
   "toc_section_display": true,
   "toc_window_display": true
  }
 },
 "nbformat": 4,
 "nbformat_minor": 2
}
